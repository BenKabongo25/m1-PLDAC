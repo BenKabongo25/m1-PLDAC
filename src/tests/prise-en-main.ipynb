{
 "cells": [
  {
   "cell_type": "markdown",
   "id": "de8843d0",
   "metadata": {},
   "source": [
    "## Prise en main de l'API REST de ConceptNet\n",
    "\n",
    "API de requêtes pour **ConceptNet**\n",
    "\n",
    "- Documentation de l'API : <a href='https://github.com/commonsense/conceptnet5/wiki/API'>https://github.com/commonsense/conceptnet5/wiki/API</a>\n",
    "\n",
    "- Documentation de ConceptNet : <a href='https://github.com/commonsense/conceptnet5/wiki'>https://github.com/commonsense/conceptnet5/wiki</a>\n"
   ]
  },
  {
   "cell_type": "code",
   "execution_count": 1,
   "id": "6c1fd02c",
   "metadata": {},
   "outputs": [],
   "source": [
    "import requests"
   ]
  },
  {
   "cell_type": "code",
   "execution_count": 2,
   "id": "f8b40cc6",
   "metadata": {},
   "outputs": [
    {
     "data": {
      "text/plain": [
       "dict_keys(['@context', '@id', 'edges', 'version', 'view'])"
      ]
     },
     "execution_count": 2,
     "metadata": {},
     "output_type": "execute_result"
    }
   ],
   "source": [
    "obj = requests.get('http://api.conceptnet.io/c/en/example').json()\n",
    "obj.keys()"
   ]
  },
  {
   "cell_type": "code",
   "execution_count": 3,
   "id": "7be08baa",
   "metadata": {},
   "outputs": [
    {
     "name": "stdout",
     "output_type": "stream",
     "text": [
      "@context : <class 'list'>\n",
      "@id : <class 'str'>\n",
      "edges : <class 'list'>\n",
      "version : <class 'str'>\n",
      "view : <class 'dict'>\n"
     ]
    }
   ],
   "source": [
    "for k in obj.keys():\n",
    "    print(k, ':', type(obj[k]))"
   ]
  },
  {
   "cell_type": "code",
   "execution_count": 4,
   "id": "515a1c3c",
   "metadata": {},
   "outputs": [
    {
     "data": {
      "text/plain": [
       "['http://api.conceptnet.io/ld/conceptnet5.7/context.ld.json']"
      ]
     },
     "execution_count": 4,
     "metadata": {},
     "output_type": "execute_result"
    }
   ],
   "source": [
    "obj['@context']"
   ]
  },
  {
   "cell_type": "code",
   "execution_count": 5,
   "id": "c6a37638",
   "metadata": {},
   "outputs": [
    {
     "data": {
      "text/plain": [
       "'/c/en/example'"
      ]
     },
     "execution_count": 5,
     "metadata": {},
     "output_type": "execute_result"
    }
   ],
   "source": [
    "obj['@id']"
   ]
  },
  {
   "cell_type": "code",
   "execution_count": 6,
   "id": "853a5c3f",
   "metadata": {},
   "outputs": [
    {
     "data": {
      "text/plain": [
       "20"
      ]
     },
     "execution_count": 6,
     "metadata": {},
     "output_type": "execute_result"
    }
   ],
   "source": [
    "len(obj['edges'])"
   ]
  },
  {
   "cell_type": "code",
   "execution_count": 7,
   "id": "2ce88269",
   "metadata": {
    "scrolled": false
   },
   "outputs": [
    {
     "data": {
      "text/plain": [
       "{'@id': '/a/[/r/Synonym/,/c/ja/例/n/wn/cognition/,/c/en/example/n/wn/cognition/]',\n",
       " '@type': 'Edge',\n",
       " 'dataset': '/d/wordnet/3.1',\n",
       " 'end': {'@id': '/c/en/example/n/wn/cognition',\n",
       "  '@type': 'Node',\n",
       "  'label': 'example',\n",
       "  'language': 'en',\n",
       "  'sense_label': 'n, cognition',\n",
       "  'term': '/c/en/example'},\n",
       " 'license': 'cc:by/4.0',\n",
       " 'rel': {'@id': '/r/Synonym', '@type': 'Relation', 'label': 'Synonym'},\n",
       " 'sources': [{'@id': '/s/resource/wordnet/rdf/3.1',\n",
       "   '@type': 'Source',\n",
       "   'contributor': '/s/resource/wordnet/rdf/3.1'}],\n",
       " 'start': {'@id': '/c/ja/例/n/wn/cognition',\n",
       "  '@type': 'Node',\n",
       "  'label': '例',\n",
       "  'language': 'ja',\n",
       "  'sense_label': 'n, cognition',\n",
       "  'term': '/c/ja/例'},\n",
       " 'surfaceText': '[[例]] is a translation of [[example]]',\n",
       " 'weight': 2.0}"
      ]
     },
     "execution_count": 7,
     "metadata": {},
     "output_type": "execute_result"
    }
   ],
   "source": [
    "obj['edges'][2]"
   ]
  },
  {
   "cell_type": "code",
   "execution_count": 8,
   "id": "77d77c18",
   "metadata": {},
   "outputs": [
    {
     "data": {
      "text/plain": [
       "dict_keys(['@id', '@type', 'dataset', 'end', 'license', 'rel', 'sources', 'start', 'surfaceText', 'weight'])"
      ]
     },
     "execution_count": 8,
     "metadata": {},
     "output_type": "execute_result"
    }
   ],
   "source": [
    "obj['edges'][2].keys()"
   ]
  }
 ],
 "metadata": {
  "kernelspec": {
   "display_name": "Python 3 (ipykernel)",
   "language": "python",
   "name": "python3"
  },
  "language_info": {
   "codemirror_mode": {
    "name": "ipython",
    "version": 3
   },
   "file_extension": ".py",
   "mimetype": "text/x-python",
   "name": "python",
   "nbconvert_exporter": "python",
   "pygments_lexer": "ipython3",
   "version": "3.9.13"
  }
 },
 "nbformat": 4,
 "nbformat_minor": 5
}
